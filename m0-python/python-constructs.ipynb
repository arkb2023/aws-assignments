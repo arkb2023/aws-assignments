{
  "nbformat": 4,
  "nbformat_minor": 0,
  "metadata": {
    "colab": {
      "provenance": []
    },
    "kernelspec": {
      "name": "python3",
      "display_name": "Python 3"
    },
    "language_info": {
      "name": "python"
    }
  },
  "cells": [
    {
      "cell_type": "markdown",
      "source": [
        "**Q1**. Using Python script as a calculator\n",
        "Create the variables n, r, p and assign them values 10, 5, and 100 respectively. Then evaluate the following expression in the Python console.\n",
        "𝐴 = 𝑝 (1 + 𝑟/ 100)n\n",
        "\n",
        "a. 100  \n",
        "b. 162.89  \n",
        "c. 189  \n",
        "d. None of the above  \n",
        "\n",
        "### Answer: `(b) 162.89`  \n"
      ],
      "metadata": {
        "id": "OGlBdfxVqei3"
      }
    },
    {
      "cell_type": "code",
      "source": [
        "# Solution:\n",
        "n = 10\n",
        "r = 5\n",
        "p = 100\n",
        "result = p*(1+(r/100))**n\n",
        "print(f\"Result: {result}\")"
      ],
      "metadata": {
        "colab": {
          "base_uri": "https://localhost:8080/"
        },
        "id": "DyLEDNeCqwja",
        "outputId": "5977f33d-e9c8-4f72-ad98-b212c6ceefb9"
      },
      "execution_count": 11,
      "outputs": [
        {
          "output_type": "stream",
          "name": "stdout",
          "text": [
            "Result: 162.8894626777442\n"
          ]
        }
      ]
    },
    {
      "cell_type": "markdown",
      "source": [
        "**Q2**. In a given string format operation, how will you print the given string.  \n",
        "A = 10  \n",
        "B = 20  \n",
        "Str = \"There are {} students in the class, with {} who play at least one sport.\"  \n",
        "\n",
        "a. print(string.format(a,b))  \n",
        "b. print(string+a+b)  \n",
        "c. print(string.format(b,a))  \n",
        "d. None of the above  \n",
        "\n",
        "### Answer: `(d) None of the above`  \n",
        "\n",
        "`Note` Capitalize variables in option (a) and then it will work"
      ],
      "metadata": {
        "id": "W3DPZ0Auu2ZZ"
      }
    },
    {
      "cell_type": "code",
      "execution_count": 15,
      "metadata": {
        "colab": {
          "base_uri": "https://localhost:8080/"
        },
        "id": "_3iEzTK3qZpA",
        "outputId": "dd9d0ea0-59e0-44f0-cda8-a2d9e3d20076"
      },
      "outputs": [
        {
          "output_type": "stream",
          "name": "stdout",
          "text": [
            "There are 10 students in the class, with 20 who play at least one sport.\n"
          ]
        }
      ],
      "source": [
        "# Solution:\n",
        "A = 10\n",
        "B = 20\n",
        "Str = \"There are {} students in the class, with {} who play at least one sport.\"\n",
        "print(Str.format(A, B)) ## Capitalized A and B"
      ]
    },
    {
      "cell_type": "markdown",
      "source": [
        "**Q3**. In a given sample string, How do you print a double quoted string in between a regular string using the escape character?  \n",
        "Sample output = It goes without saying, “Time is Money”, and none can deny it.  \n",
        "\n",
        "a. print(“It goes without saying, \\“Time is Money\\”, and none can deny it.”)  \n",
        "b. print(“It goes without saying, \\Time is Money\\, and none can deny it.”)  \n",
        "c. print(“It goes without saying” + “Time is Money” + “and none can deny it.”)  \n",
        "d. None of the above.  \n",
        "\n",
        "### Answer: `(a)`\n"
      ],
      "metadata": {
        "id": "ZFqgEFTdw6hk"
      }
    },
    {
      "cell_type": "code",
      "source": [
        "# Solution\n",
        "print(\"It goes without saying, \\\"Time is Money\\\", and none can deny it.\")"
      ],
      "metadata": {
        "colab": {
          "base_uri": "https://localhost:8080/"
        },
        "id": "J2Cls4Bnvidh",
        "outputId": "e0c91305-8b95-40e5-ed5f-0b43918db062"
      },
      "execution_count": 18,
      "outputs": [
        {
          "output_type": "stream",
          "name": "stdout",
          "text": [
            "It goes without saying, \"Time is Money\", and none can deny it.\n"
          ]
        }
      ]
    },
    {
      "cell_type": "markdown",
      "source": [
        "**Q4**. What will be the output of the following code?  \n",
        "x = lambda a,b: a//b  \n",
        "x(10,3)  \n",
        "\n",
        "a. 3.3333333333  \n",
        "b. 3  \n",
        "c. 30  \n",
        "d. 1000\n",
        "\n",
        "## Answer `b. 3`\n",
        "\n",
        "\n"
      ],
      "metadata": {
        "id": "685QAN3UzGPL"
      }
    },
    {
      "cell_type": "code",
      "source": [
        "# Solution\n",
        "x = lambda a,b: a//b\n",
        "x(10,3)"
      ],
      "metadata": {
        "colab": {
          "base_uri": "https://localhost:8080/"
        },
        "id": "DyXJODrUx-wJ",
        "outputId": "5ca97701-713c-4380-9118-603850e83f53"
      },
      "execution_count": 19,
      "outputs": [
        {
          "output_type": "execute_result",
          "data": {
            "text/plain": [
              "3"
            ]
          },
          "metadata": {},
          "execution_count": 19
        }
      ]
    },
    {
      "cell_type": "markdown",
      "source": [
        "**Q5.** What will be the output of the following code?  \n",
        "  A = 10  \n",
        "  B = 12  \n",
        "  print(\"Smaller\") if A == B else print(\"Greater\") if A < B else print(\"True\")  \n",
        "\n",
        "a. True  \n",
        "b. Smaller  \n",
        "c. Greater  \n",
        "d. None of the above  \n",
        "\n",
        "## Answer: `c. Greater`  \n",
        "\n",
        "## Explanation:  \n",
        "- First condition: `A == B` is `False`, so `Smaller` is not printed  \n",
        "- Second condition: `A < B` is `True`, so `Greater` is printed\n",
        "- The last `else` is not executed as second condition is `True`."
      ],
      "metadata": {
        "id": "pN1zzr7Wz0cv"
      }
    },
    {
      "cell_type": "code",
      "source": [
        "  A = 10\n",
        "  B = 12\n",
        "  print(\"Smaller\") if A == B else print(\"Greater\") if A < B else print(\"True\")"
      ],
      "metadata": {
        "colab": {
          "base_uri": "https://localhost:8080/"
        },
        "id": "PfKvvwAzzSX5",
        "outputId": "34bcd3de-e47b-4c52-ab5d-7f54c47d6787"
      },
      "execution_count": 20,
      "outputs": [
        {
          "output_type": "stream",
          "name": "stdout",
          "text": [
            "Greater\n"
          ]
        }
      ]
    },
    {
      "cell_type": "markdown",
      "source": [
        "Q6. What will be the output of the following code?\n",
        "```python\n",
        "import os\n",
        "import numpy as np\n",
        "my_list1 = [2,7,3,5,4,6]\n",
        "print(my_list1)\n",
        "arr_1 = numpy.array(my_list1, dtype = int)\n",
        "print(arr_1)\n",
        "```  \n",
        "\n",
        "a. [2 7 3 5 4 6]  \n",
        "b. TypeError  \n",
        "c. NameError: name 'numpy' is not defined  \n",
        "d. None of the above  \n",
        "\n",
        "\n",
        "### Answer: `c. NameError: name 'numpy' is not defined`  \n"
      ],
      "metadata": {
        "id": "VtS6ZeAg2RRb"
      }
    },
    {
      "cell_type": "code",
      "source": [
        "# Fixed code\n",
        "import os\n",
        "import numpy as np\n",
        "my_list1 = [2,7,3,5,4,6]\n",
        "print(my_list1)\n",
        "# arr_1 = numpy.array(my_list1, dtype = int) # Orginal\n",
        "arr_1 = np.array(my_list1, dtype = int)  # Fixed\n",
        "print(arr_1)"
      ],
      "metadata": {
        "colab": {
          "base_uri": "https://localhost:8080/"
        },
        "id": "BIZu_S7L0X5h",
        "outputId": "986730e7-7f8e-4d31-8edb-966407809fbf"
      },
      "execution_count": 25,
      "outputs": [
        {
          "output_type": "stream",
          "name": "stdout",
          "text": [
            "[2, 7, 3, 5, 4, 6]\n",
            "[2 7 3 5 4 6]\n"
          ]
        }
      ]
    },
    {
      "cell_type": "markdown",
      "source": [
        "**Q7**. Create a string called ‘string’ with the value as “Machine Learning”. Which code(s) is/are appropriate to slice the substring “Learn”?  \n",
        "\n",
        "a. string[slice(13,8,1)]  \n",
        "b. string[slice(1,8,1)]  \n",
        "c. string[8:14]  \n",
        "d. string[slice(8,13,1)]\n",
        "\n",
        "### Answer: `d. string[slice(8,13,1)]`  \n",
        "\n",
        "#### Explanation:\n",
        "```text\n",
        " # String indexes\n",
        " M  a  c  h  i  n  e     L  e  a  r  n  i  n  g\n",
        " 0  1  2  3  4  5  6  7  8  9 10 11 12 13 14 15\n",
        "```\n",
        "\"Learn\" starts at index 8 and ends at 12 in the string.  \n",
        "Syntax `slice(start, stop, step)`:  \n",
        "- `start=8` means begin slicing at index 8 (inclusive).  \n",
        "- `stop=13` means stop slicing before index 13 (exclusive), so it stops at index 12.  \n",
        "- `step=1` means take every character one by one from `start` to `stop`.\n"
      ],
      "metadata": {
        "id": "cfkG55zT44x-"
      }
    },
    {
      "cell_type": "code",
      "source": [
        "string = \"Machine Learning\"\n",
        "print(f\"{string[slice(13,8,1)]}\")\n",
        "print(f\"{string[slice(1,8,1)]}\")\n",
        "print(f\"{string[8:14]}\")\n",
        "print(f\"{string[slice(8,13,1)]}\")"
      ],
      "metadata": {
        "colab": {
          "base_uri": "https://localhost:8080/"
        },
        "id": "xrEXlZk32_KI",
        "outputId": "8cad103d-0ac9-4bfc-8245-5297348e192b"
      },
      "execution_count": 35,
      "outputs": [
        {
          "output_type": "stream",
          "name": "stdout",
          "text": [
            "\n",
            "achine \n",
            "Learni\n",
            "Learn\n"
          ]
        }
      ]
    },
    {
      "cell_type": "markdown",
      "source": [
        "**Q8**. Create a sequence of numbers from 10 to 25 and increment by 4. What is the index of the value 18?  \n",
        "\n",
        "a. 3  \n",
        "b. 2  \n",
        "c. 0  \n",
        "d. 1\n",
        "\n",
        "### Answer: `b. 2`  \n",
        "\n",
        "### Explantion:\n",
        "start = 10  \n",
        "end = 25  \n",
        "step = 4  \n",
        "Resulting sequence `10, 14, 18, 22` where\n",
        "`18` is at index `2`\n"
      ],
      "metadata": {
        "id": "Onnhd7Ws4xzq"
      }
    },
    {
      "cell_type": "code",
      "source": [
        "# Solution\n",
        "mylist = list(range(10, 25, 4))\n",
        "print(f\"{mylist}\")\n",
        "value = 18\n",
        "index = mylist.index(18)\n",
        "print(f\"Value {value} is at index {index}\")\n"
      ],
      "metadata": {
        "colab": {
          "base_uri": "https://localhost:8080/"
        },
        "id": "1J8_Rq_e-8NZ",
        "outputId": "9fb4d26d-5654-42aa-e3d4-d564a4ccb8ff"
      },
      "execution_count": 48,
      "outputs": [
        {
          "output_type": "stream",
          "name": "stdout",
          "text": [
            "[10, 14, 18, 22]\n",
            "Value 18 is at index 2\n"
          ]
        }
      ]
    },
    {
      "cell_type": "markdown",
      "source": [
        "Q9. Which of the following is true with respect to the below codes?  \n",
        "```python\n",
        "num1 = 5**4\n",
        "num2= pow(5,4)\n",
        "print(num1, num2)\n",
        "```\n",
        "\n",
        "a. num1 = num2  \n",
        "b. num1 ≠ num2  \n",
        "c. num1 < num2  \n",
        "d. num1 > num2  \n",
        "\n",
        "### Answer:  `a. num1 = num2`  "
      ],
      "metadata": {
        "id": "A5RzuHRDCkhe"
      }
    },
    {
      "cell_type": "code",
      "source": [
        "# Test\n",
        "num1 = 5**4\n",
        "num2= pow(5,4)\n",
        "print(num1, num2)"
      ],
      "metadata": {
        "colab": {
          "base_uri": "https://localhost:8080/"
        },
        "id": "fLT1Y6_i_sJk",
        "outputId": "77e2d297-8d5b-471b-c2e7-9129dc92acc3"
      },
      "execution_count": 49,
      "outputs": [
        {
          "output_type": "stream",
          "name": "stdout",
          "text": [
            "625 625\n"
          ]
        }
      ]
    },
    {
      "cell_type": "markdown",
      "source": [
        "**Q10**.A Python NameError exception is raised when:-  \n",
        "\n",
        "a. Trying to access a variable which has not been defined  \n",
        "b. Trying to access a key in a dictionary that does not exist  \n",
        "c. Accessing a column with misspelled column name  \n",
        "d. Accessing the function from a module that has not been imported  \n",
        "\n",
        "### Answer: `a. Trying to access a variable which has not been defined`"
      ],
      "metadata": {
        "id": "ZlPzTcIrDsYc"
      }
    },
    {
      "cell_type": "code",
      "source": [
        "# Code sample for given options\n",
        "\n",
        "# a. Trying to access a variable which has not been defined\n",
        "try:\n",
        "    print(var)  # var is not defined\n",
        "except NameError as e:\n",
        "    print(f\"NameError: {e}\")\n",
        "\n",
        "# b. Trying to access a key in a dictionary that does not exist\n",
        "my_dict = {'a': 1, 'b': 2}\n",
        "try:\n",
        "    print(my_dict['c'])  # 'c' key does not exist\n",
        "except KeyError as e:\n",
        "    print(f\"KeyError: {e} -- this key does not exist in dictionary\")\n",
        "\n",
        "# c. Accessing a column with misspelled column name\n",
        "try:\n",
        "  import pandas as pd\n",
        "\n",
        "  df = pd.DataFrame({'Name': ['John', 'Jane'], 'Age': [23, 29]})\n",
        "  print(df['Aeg'])  # Misspelled 'Age' column\n",
        "except KeyError as e:\n",
        "    print(f\"KeyError: {e}  -- this column key does not exist\")\n",
        "\n",
        "# d. Accessing the function from a module that has not been imported (NameError):\n",
        "try:\n",
        "  print(sqrt(16))  # sqrt function is used without importing math module\n",
        "except NameError as e:\n",
        "    print(f\"NameError: {e} -- sqrt function accessed without importing\")\n",
        "\n"
      ],
      "metadata": {
        "colab": {
          "base_uri": "https://localhost:8080/"
        },
        "id": "YE0GyCKDC_d7",
        "outputId": "91688ae4-a007-45d7-88d7-27ca6f4bca36"
      },
      "execution_count": 78,
      "outputs": [
        {
          "output_type": "stream",
          "name": "stdout",
          "text": [
            "NameError: name 'var' is not defined\n",
            "KeyError: 'c' -- this key does not exist in dictionary\n",
            "KeyError: 'Aeg'  -- this column key does not exist\n",
            "NameError: name 'sqrt' is not defined -- sqrt function accessed without importing\n"
          ]
        }
      ]
    },
    {
      "cell_type": "markdown",
      "source": [
        "Q11.What type of exception will be raised for the code given below?  \n",
        "```python\n",
        "x = \"string\"\n",
        "int(x)\n",
        "```\n",
        "a. NameError  \n",
        "b. KeyError  \n",
        "c. ValueError  \n",
        "d. AttributeError  \n",
        "\n",
        "### Answer: `c. ValueError`  \n",
        "\n",
        "### Explanation\n",
        "int() cannot convert a non-numeric string like \"string\" to an integer.\n"
      ],
      "metadata": {
        "id": "vySIRX9EFnGx"
      }
    },
    {
      "cell_type": "code",
      "source": [
        "x = \"string\"\n",
        "int(x)"
      ],
      "metadata": {
        "colab": {
          "base_uri": "https://localhost:8080/",
          "height": 166
        },
        "id": "SZOVxkfrE-8E",
        "outputId": "d6dcc161-8bd1-45d3-edc7-ac5b2969b47d"
      },
      "execution_count": 80,
      "outputs": [
        {
          "output_type": "error",
          "ename": "ValueError",
          "evalue": "invalid literal for int() with base 10: 'string'",
          "traceback": [
            "\u001b[0;31m---------------------------------------------------------------------------\u001b[0m",
            "\u001b[0;31mValueError\u001b[0m                                Traceback (most recent call last)",
            "\u001b[0;32m/tmp/ipython-input-2861876457.py\u001b[0m in \u001b[0;36m<cell line: 0>\u001b[0;34m()\u001b[0m\n\u001b[1;32m      1\u001b[0m \u001b[0mx\u001b[0m \u001b[0;34m=\u001b[0m \u001b[0;34m\"string\"\u001b[0m\u001b[0;34m\u001b[0m\u001b[0;34m\u001b[0m\u001b[0m\n\u001b[0;32m----> 2\u001b[0;31m \u001b[0mint\u001b[0m\u001b[0;34m(\u001b[0m\u001b[0mx\u001b[0m\u001b[0;34m)\u001b[0m\u001b[0;34m\u001b[0m\u001b[0;34m\u001b[0m\u001b[0m\n\u001b[0m",
            "\u001b[0;31mValueError\u001b[0m: invalid literal for int() with base 10: 'string'"
          ]
        }
      ]
    },
    {
      "cell_type": "markdown",
      "source": [
        "**Q12**. A FileNotFoundError exception is raised by operating system errors when: -  \n",
        "\n",
        "a. Trying to create a file or directory which already exists  \n",
        "b. A file or directory is requested but does not exist in the working directory  \n",
        "c. Trying to run an operation without the adequate access rights  \n",
        "d. A directory operation, os.listdir() is requested on something which is not a directory\n",
        "\n",
        "### Answer: `b. A file or directory is requested but does not exist in the working directory`"
      ],
      "metadata": {
        "id": "9Nw4IfcGNcbi"
      }
    },
    {
      "cell_type": "code",
      "source": [
        "# Code sample\n",
        "try:\n",
        "  with open(\"non_existent_file.txt\", \"r\") as file:\n",
        "    content = file.read()\n",
        "except FileNotFoundError as e:\n",
        "    print(f\"FileNotFoundError: {e} -- Non existent file accessed\")"
      ],
      "metadata": {
        "colab": {
          "base_uri": "https://localhost:8080/"
        },
        "id": "VCZJbto-Fllr",
        "outputId": "3c9da09c-7321-4550-9c90-c015fb0befbb"
      },
      "execution_count": 82,
      "outputs": [
        {
          "output_type": "stream",
          "name": "stdout",
          "text": [
            "FileNotFoundError: [Errno 2] No such file or directory: 'non_existent_file.txt' -- Non existent file accessed\n"
          ]
        }
      ]
    },
    {
      "cell_type": "markdown",
      "source": [
        "**Q13**.Consider a variable Z. The value of Z is \"ID-5632\". Data type of Z is: -  \n",
        "\n",
        "a. Complex  \n",
        "b. Character  \n",
        "c. Integer  \n",
        "d. Boolean  \n",
        "\n",
        "### Answer: Data type is `string`\n",
        "`b. Character` is closest to but Python doesn’t have a separate char data type. A single charater is also classified as a `string` object\n"
      ],
      "metadata": {
        "id": "zkPFQgQOOh8C"
      }
    },
    {
      "cell_type": "code",
      "source": [
        "# Code to check the data types\n",
        "Z = \"ID-5632\"\n",
        "print(f\"Data type of Z is {type(Z)}\")\n",
        "a='a'\n",
        "print(f\"Data type of a is {type(a)}\")"
      ],
      "metadata": {
        "colab": {
          "base_uri": "https://localhost:8080/"
        },
        "id": "-rZkFAuLOPE7",
        "outputId": "7e4884c5-7208-48c3-e34f-489b101dd728"
      },
      "execution_count": 89,
      "outputs": [
        {
          "output_type": "stream",
          "name": "stdout",
          "text": [
            "Data type of Z is <class 'str'>\n",
            "Data type of a is <class 'str'>\n"
          ]
        }
      ]
    },
    {
      "cell_type": "markdown",
      "source": [
        "**Q14**.Which of the following variable(s) are character data type?  \n",
        "\n",
        "a. K= “4”  \n",
        "b. J= “Welcome”  \n",
        "c. L= “?”  \n",
        "d. All of the above  \n",
        "\n",
        "### Answer:\n",
        "In Python, anything enclosed in quotes—single (') or double (\") is treated as a string. So a, b, c are all strings (essentially characters). The question is taking about character data type so `d. All of the above`\n",
        "\n"
      ],
      "metadata": {
        "id": "psxu-ZJlP0Mb"
      }
    },
    {
      "cell_type": "code",
      "source": [
        "# Code to check the data types\n",
        "K= \"4\"\n",
        "J= \"Welcome\"\n",
        "L= \"?\"\n",
        "print(f\"variable K is of type {type(K)}\")\n",
        "print(f\"variable J is of type {type(J)}\")\n",
        "print(f\"variable L is of type {type(L)}\")"
      ],
      "metadata": {
        "colab": {
          "base_uri": "https://localhost:8080/"
        },
        "id": "_Q1a0aJ_O4lW",
        "outputId": "7ea09e3c-5432-4407-b97b-95c6a5cc7098"
      },
      "execution_count": 87,
      "outputs": [
        {
          "output_type": "stream",
          "name": "stdout",
          "text": [
            "variable K is of type <class 'str'>\n",
            "variable J is of type <class 'str'>\n",
            "variable L is of type <class 'str'>\n"
          ]
        }
      ]
    },
    {
      "cell_type": "markdown",
      "source": [
        "**Q15**. Choose the symbol/s that does not have the ability to convert any values to string?  \n",
        "\n",
        "a. ( )  \n",
        "b. “ ”  \n",
        "c. {}  \n",
        "d. #  \n",
        "\n",
        "### Answer: `d. #`\n",
        "\n",
        "### Explanation:\n",
        "`()` => tuple notation, It can be converted to a string by str function  \n",
        "`\"\"` => string notation.  \n",
        "`{}` => Dictionary notation, can be converted to string by str function  \n",
        "`#` => comment symbol in Python. Cannot be converted to a string because it is not a value."
      ],
      "metadata": {
        "id": "vBxYoj7lUFTG"
      }
    },
    {
      "cell_type": "code",
      "source": [
        "# Test code\n",
        "tup = ()\n",
        "dt = {}\n",
        "s = \"\"\n",
        "#h = #\n",
        "print(f\"tup: {type(tup)} converted to {type(str(tup))}\")\n",
        "print(f\"d1: {type(dt)} converted to {type(str(dt))}\")\n",
        "print(f\"s: {type(s)}\")\n"
      ],
      "metadata": {
        "colab": {
          "base_uri": "https://localhost:8080/"
        },
        "id": "Y7A1bavfTfWP",
        "outputId": "b211276e-d34e-465b-9b63-c36929fb4cc6"
      },
      "execution_count": 104,
      "outputs": [
        {
          "output_type": "stream",
          "name": "stdout",
          "text": [
            "tup: <class 'tuple'> converted to <class 'str'>\n",
            "d1: <class 'dict'> converted to <class 'str'>\n",
            "s: <class 'str'>\n"
          ]
        }
      ]
    },
    {
      "cell_type": "markdown",
      "source": [
        "** Q16**. Create a dictionary ‘Country’ that maps the following countries to their capitals respectively:\n",
        "\n",
        "|Country |India |China |Japan |Qatar |France|\n",
        "|--------|------|------|-------|-----|------|\n",
        "|State   |Delhi |Beijing |Tokyo |Doha |Marseilles|\n",
        "\n",
        "Find 2 commands to replace “Marseilles” with “Paris” is:\n",
        "\n",
        "### Answer:\n",
        "```python\n",
        "# Dictionary\n",
        "dt = {\n",
        "    \"India\": \"Delhi\",\n",
        "    \"China\": \"Beijing\",\n",
        "    \"Japan\": \"Tokyo\",\n",
        "    \"Qatar\": \"Doha\",\n",
        "    \"France\": \"Marseilles\"\n",
        "}\n",
        "\n",
        "# Command1\n",
        "dt[\"France\"] = \"Paris\"\n",
        "# # Command2\n",
        "dt.update({\"France\": \"Paris\"})\n",
        "```"
      ],
      "metadata": {
        "id": "07JBCrMbai84"
      }
    },
    {
      "cell_type": "code",
      "source": [
        "# Solution:\n",
        "dt = {\n",
        "    \"India\": \"Delhi\",\n",
        "    \"China\": \"Beijing\",\n",
        "    \"Japan\": \"Tokyo\",\n",
        "    \"Qatar\": \"Doha\",\n",
        "    \"France\": \"Marseilles\"\n",
        "}\n",
        "\n",
        "print(f\"Before: Capital of France: {dt['France']}\")\n",
        "\n",
        "dt[\"France\"] = \"Paris\"\n",
        "print(f\"After1: Capital of France: {dt['France']}\")\n",
        "\n",
        "dt.update({\"France\": \"Paris\"})\n",
        "print(f\"After2: Capital of France: {dt['France']}\")\n"
      ],
      "metadata": {
        "colab": {
          "base_uri": "https://localhost:8080/"
        },
        "id": "eqv_SAV4WLeh",
        "outputId": "fe8c2012-dbfd-410c-ef3a-a6783bb7d285"
      },
      "execution_count": 110,
      "outputs": [
        {
          "output_type": "stream",
          "name": "stdout",
          "text": [
            "Before: Capital of France: Marseilles\n",
            "After1: Capital of France: Paris\n",
            "After2: Capital of France: Paris\n"
          ]
        }
      ]
    },
    {
      "cell_type": "markdown",
      "source": [
        "**Q17**. Create the tuples given below  \n",
        "tuple_1 = (1,5,6,7,8)  \n",
        "tuple_2 = (8,9,4)  \n",
        "Identify which of the following code does not work on a tuple.  \n",
        "\n",
        "a. sum(tuple_1)  \n",
        "b. len(tuple_2)  \n",
        "c. tuple_2 + tuple_1  \n",
        "d. tuple_1[3] = 45  \n",
        "\n",
        "### Answer  `d. tuple_1[3] = 45`\n",
        "\n",
        "#### Explanation:\n",
        "Tuples are immutable, so you cannot modify specific elements in a tuple using indexing.\n",
        "tuple_1[3] = 45 will raise a TypeError.\n",
        "\n"
      ],
      "metadata": {
        "id": "WU21Z--Rehxg"
      }
    },
    {
      "cell_type": "code",
      "source": [
        "# Code sample\n",
        "tuple_1 = (1, 5, 6, 7, 8)\n",
        "tuple_2 = (8, 9, 4)\n",
        "\n",
        "print(sum(tuple_1))\n",
        "print(len(tuple_2))\n",
        "print(tuple_2 + tuple_1)\n",
        "\n",
        "try:\n",
        "  tuple_1[3] = 45         # Raises TypeError\n",
        "except TypeError as e:\n",
        "  print(f\"TypeError: {e}\")\n"
      ],
      "metadata": {
        "colab": {
          "base_uri": "https://localhost:8080/"
        },
        "id": "FdFBHAb5cwZL",
        "outputId": "44465da3-c532-4842-df0f-4bd02953cda2"
      },
      "execution_count": 113,
      "outputs": [
        {
          "output_type": "stream",
          "name": "stdout",
          "text": [
            "27\n",
            "3\n",
            "(8, 9, 4, 1, 5, 6, 7, 8)\n",
            "TypeError: 'tuple' object does not support item assignment\n"
          ]
        }
      ]
    },
    {
      "cell_type": "markdown",
      "source": [
        "**Q18**. How many elements in the following data structure?  \n",
        "S={1, 2, 3, 4, 4, 4, 5, 6}\n",
        "\n",
        "### Answer: 6\n",
        "\n",
        "### Explanation\n",
        "S is a set. Duplicate 4's are ignored."
      ],
      "metadata": {
        "id": "DzieDgsJgD1v"
      }
    },
    {
      "cell_type": "code",
      "source": [
        "# Code test\n",
        "S={1, 2, 3, 4, 4, 4, 5, 6}\n",
        "#print(type(S))\n",
        "print(len(S))"
      ],
      "metadata": {
        "colab": {
          "base_uri": "https://localhost:8080/"
        },
        "id": "89U3lnd0fEiK",
        "outputId": "05eb32fb-9be2-422a-c3fd-592515ca8c7c"
      },
      "execution_count": 121,
      "outputs": [
        {
          "output_type": "stream",
          "name": "stdout",
          "text": [
            "6\n"
          ]
        }
      ]
    },
    {
      "cell_type": "markdown",
      "source": [
        "**Q19**. Write a function which finds all pythagorean triplets of triangles whose sides are not greater than a natural number N.  "
      ],
      "metadata": {
        "id": "N7pcdJ83nIUg"
      }
    },
    {
      "cell_type": "code",
      "source": [
        "import math\n",
        "\n",
        "def is_valid_pythagorean_triplet(a, b, N):\n",
        "    \"\"\"\n",
        "    Given sides a, b and max side N,\n",
        "    calculates c_squared, checks if it forms a valid Pythagorean triplet\n",
        "    with c <= N.\n",
        "\n",
        "    Returns (True, c) if valid, else (False, None).\n",
        "    \"\"\"\n",
        "    c_squared = a**2 + b**2\n",
        "    c = int(math.sqrt(c_squared))\n",
        "    if c*c == c_squared and c <= N:\n",
        "        return True, c\n",
        "    return False, None\n",
        "\n",
        "\n",
        "def find_pythagorean_triplets(N):\n",
        "    triplets = []\n",
        "    for a in range(1, N + 1):\n",
        "        for b in range(a, N + 1):\n",
        "            #print(f\"Checking a={a}, b={b}\")\n",
        "            is_valid, c = is_valid_pythagorean_triplet(a, b, N)\n",
        "            if is_valid:\n",
        "                #print(f\"Found triplet: ({a}, {b}, {c})\")\n",
        "                triplets.append((a, b, c))\n",
        "    return triplets\n",
        "\n",
        "if __name__ == '__main__':\n",
        "  # Test 1\n",
        "  N = 10\n",
        "  print(f\"Pythagorean triplets up to {N}:\")\n",
        "  triplets = find_pythagorean_triplets(N)\n",
        "  for triplet in triplets:\n",
        "      print(triplet)\n",
        "\n",
        "  # Test 2\n",
        "  N = 15\n",
        "  print(f\"Pythagorean triplets up to {N}:\")\n",
        "  triplets = find_pythagorean_triplets(N)\n",
        "  for triplet in triplets:\n",
        "      print(triplet)\n",
        "\n",
        "  # Test 3\n",
        "  N = 20\n",
        "  print(f\"Pythagorean triplets up to {N}:\")\n",
        "  triplets = find_pythagorean_triplets(N)\n",
        "  for triplet in triplets:\n",
        "      print(triplet)\n"
      ],
      "metadata": {
        "colab": {
          "base_uri": "https://localhost:8080/"
        },
        "id": "HAUHT9vTgYf5",
        "outputId": "ef148642-44ed-48d6-ac2a-883a34b05ec3"
      },
      "execution_count": 137,
      "outputs": [
        {
          "output_type": "stream",
          "name": "stdout",
          "text": [
            "Pythagorean triplets up to 10:\n",
            "(3, 4, 5)\n",
            "(6, 8, 10)\n",
            "Pythagorean triplets up to 15:\n",
            "(3, 4, 5)\n",
            "(5, 12, 13)\n",
            "(6, 8, 10)\n",
            "(9, 12, 15)\n",
            "Pythagorean triplets up to 20:\n",
            "(3, 4, 5)\n",
            "(5, 12, 13)\n",
            "(6, 8, 10)\n",
            "(8, 15, 17)\n",
            "(9, 12, 15)\n",
            "(12, 16, 20)\n"
          ]
        }
      ]
    }
  ]
}